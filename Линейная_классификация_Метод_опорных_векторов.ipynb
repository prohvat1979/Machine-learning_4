{
  "cells": [
    {
      "cell_type": "markdown",
      "metadata": {
        "id": "CIu2DPx5tWcg"
      },
      "source": [
        "## Домашнее задание"
      ]
    },
    {
      "cell_type": "markdown",
      "metadata": {
        "id": "ENiWYl_EtWcm"
      },
      "source": [
        "### 1. Загрузите тренировочные и тестовые датасеты"
      ]
    },
    {
      "cell_type": "code",
      "source": [
        "pip install --upgrade category_encoders"
      ],
      "metadata": {
        "id": "qP91be9PEhcc",
        "outputId": "e65d0ddb-dc1b-43b7-fe9e-0dafdb85a4a2",
        "colab": {
          "base_uri": "https://localhost:8080/"
        }
      },
      "execution_count": null,
      "outputs": [
        {
          "output_type": "stream",
          "name": "stdout",
          "text": [
            "Collecting category_encoders\n",
            "  Downloading category_encoders-2.6.4-py2.py3-none-any.whl.metadata (8.0 kB)\n",
            "Requirement already satisfied: numpy>=1.14.0 in /usr/local/lib/python3.10/dist-packages (from category_encoders) (1.26.4)\n",
            "Requirement already satisfied: scikit-learn>=0.20.0 in /usr/local/lib/python3.10/dist-packages (from category_encoders) (1.5.2)\n",
            "Requirement already satisfied: scipy>=1.0.0 in /usr/local/lib/python3.10/dist-packages (from category_encoders) (1.13.1)\n",
            "Requirement already satisfied: statsmodels>=0.9.0 in /usr/local/lib/python3.10/dist-packages (from category_encoders) (0.14.4)\n",
            "Requirement already satisfied: pandas>=1.0.5 in /usr/local/lib/python3.10/dist-packages (from category_encoders) (2.2.2)\n",
            "Requirement already satisfied: patsy>=0.5.1 in /usr/local/lib/python3.10/dist-packages (from category_encoders) (1.0.1)\n",
            "Requirement already satisfied: python-dateutil>=2.8.2 in /usr/local/lib/python3.10/dist-packages (from pandas>=1.0.5->category_encoders) (2.8.2)\n",
            "Requirement already satisfied: pytz>=2020.1 in /usr/local/lib/python3.10/dist-packages (from pandas>=1.0.5->category_encoders) (2024.2)\n",
            "Requirement already satisfied: tzdata>=2022.7 in /usr/local/lib/python3.10/dist-packages (from pandas>=1.0.5->category_encoders) (2024.2)\n",
            "Requirement already satisfied: joblib>=1.2.0 in /usr/local/lib/python3.10/dist-packages (from scikit-learn>=0.20.0->category_encoders) (1.4.2)\n",
            "Requirement already satisfied: threadpoolctl>=3.1.0 in /usr/local/lib/python3.10/dist-packages (from scikit-learn>=0.20.0->category_encoders) (3.5.0)\n",
            "Requirement already satisfied: packaging>=21.3 in /usr/local/lib/python3.10/dist-packages (from statsmodels>=0.9.0->category_encoders) (24.2)\n",
            "Requirement already satisfied: six>=1.5 in /usr/local/lib/python3.10/dist-packages (from python-dateutil>=2.8.2->pandas>=1.0.5->category_encoders) (1.17.0)\n",
            "Downloading category_encoders-2.6.4-py2.py3-none-any.whl (82 kB)\n",
            "\u001b[2K   \u001b[90m━━━━━━━━━━━━━━━━━━━━━━━━━━━━━━━━━━━━━━━━\u001b[0m \u001b[32m82.0/82.0 kB\u001b[0m \u001b[31m2.0 MB/s\u001b[0m eta \u001b[36m0:00:00\u001b[0m\n",
            "\u001b[?25hInstalling collected packages: category_encoders\n",
            "Successfully installed category_encoders-2.6.4\n"
          ]
        }
      ]
    },
    {
      "cell_type": "code",
      "execution_count": null,
      "metadata": {
        "id": "_uf-KNwQtWcn"
      },
      "outputs": [],
      "source": [
        "import pandas as pd\n",
        "import numpy as np\n",
        "import matplotlib.pyplot as plt\n",
        "from category_encoders import TargetEncoder\n",
        "from sklearn.preprocessing import StandardScaler\n",
        "from sklearn.model_selection import train_test_split\n",
        "from sklearn.linear_model import LogisticRegression\n",
        "from sklearn.linear_model import LogisticRegression\n",
        "from sklearn.svm import SVC\n",
        "from sklearn.neighbors import KNeighborsClassifier\n",
        "from sklearn.metrics import f1_score, accuracy_score, classification_report\n",
        "from sklearn.ensemble import RandomForestClassifier\n",
        "\n",
        "Xtrain = pd.read_csv(\"TrainData.csv\")\n",
        "Xtest = pd.read_csv(\"TestData.csv\")"
      ]
    },
    {
      "cell_type": "code",
      "execution_count": null,
      "metadata": {
        "id": "sqevAjp-tWcr",
        "colab": {
          "base_uri": "https://localhost:8080/",
          "height": 206
        },
        "outputId": "cf6669f3-a5a0-4c65-cb73-0680e39cc257"
      },
      "outputs": [
        {
          "output_type": "execute_result",
          "data": {
            "text/plain": [
              "   f1          f2      f3        f4  f5        f6        f7        f8  \\\n",
              "0  50  218.593930  273536  0.104575   4  0.445026  0.274531  0.444334   \n",
              "1  32  276.771005  173314  0.224684  11  0.445026  0.439103  0.444334   \n",
              "2  38  218.593930   28887  0.032491   7  0.445026  0.274531  0.444334   \n",
              "3  19  218.593930  427862  0.179322  10  0.049127  0.044987  0.009499   \n",
              "4  44  218.593930  109339  0.032491   7  0.098837  0.115721  0.066581   \n",
              "\n",
              "          f9       f10  f11  f12  f13       f14  target  \n",
              "0   5.970149  0.300298  0.0    0   49  0.100000       0  \n",
              "1   5.970149  0.300298  0.0    0   60  0.244418       0  \n",
              "2  25.606721  0.300298  0.0    0   50  0.244418       0  \n",
              "3  25.606721  0.300298  0.0    0   35  0.244418       0  \n",
              "4   5.970149  0.113590  0.0    0   46  0.185185       0  "
            ],
            "text/html": [
              "\n",
              "  <div id=\"df-c6bdd20c-b30e-4999-b4a5-6646a8e6e9db\" class=\"colab-df-container\">\n",
              "    <div>\n",
              "<style scoped>\n",
              "    .dataframe tbody tr th:only-of-type {\n",
              "        vertical-align: middle;\n",
              "    }\n",
              "\n",
              "    .dataframe tbody tr th {\n",
              "        vertical-align: top;\n",
              "    }\n",
              "\n",
              "    .dataframe thead th {\n",
              "        text-align: right;\n",
              "    }\n",
              "</style>\n",
              "<table border=\"1\" class=\"dataframe\">\n",
              "  <thead>\n",
              "    <tr style=\"text-align: right;\">\n",
              "      <th></th>\n",
              "      <th>f1</th>\n",
              "      <th>f2</th>\n",
              "      <th>f3</th>\n",
              "      <th>f4</th>\n",
              "      <th>f5</th>\n",
              "      <th>f6</th>\n",
              "      <th>f7</th>\n",
              "      <th>f8</th>\n",
              "      <th>f9</th>\n",
              "      <th>f10</th>\n",
              "      <th>f11</th>\n",
              "      <th>f12</th>\n",
              "      <th>f13</th>\n",
              "      <th>f14</th>\n",
              "      <th>target</th>\n",
              "    </tr>\n",
              "  </thead>\n",
              "  <tbody>\n",
              "    <tr>\n",
              "      <th>0</th>\n",
              "      <td>50</td>\n",
              "      <td>218.593930</td>\n",
              "      <td>273536</td>\n",
              "      <td>0.104575</td>\n",
              "      <td>4</td>\n",
              "      <td>0.445026</td>\n",
              "      <td>0.274531</td>\n",
              "      <td>0.444334</td>\n",
              "      <td>5.970149</td>\n",
              "      <td>0.300298</td>\n",
              "      <td>0.0</td>\n",
              "      <td>0</td>\n",
              "      <td>49</td>\n",
              "      <td>0.100000</td>\n",
              "      <td>0</td>\n",
              "    </tr>\n",
              "    <tr>\n",
              "      <th>1</th>\n",
              "      <td>32</td>\n",
              "      <td>276.771005</td>\n",
              "      <td>173314</td>\n",
              "      <td>0.224684</td>\n",
              "      <td>11</td>\n",
              "      <td>0.445026</td>\n",
              "      <td>0.439103</td>\n",
              "      <td>0.444334</td>\n",
              "      <td>5.970149</td>\n",
              "      <td>0.300298</td>\n",
              "      <td>0.0</td>\n",
              "      <td>0</td>\n",
              "      <td>60</td>\n",
              "      <td>0.244418</td>\n",
              "      <td>0</td>\n",
              "    </tr>\n",
              "    <tr>\n",
              "      <th>2</th>\n",
              "      <td>38</td>\n",
              "      <td>218.593930</td>\n",
              "      <td>28887</td>\n",
              "      <td>0.032491</td>\n",
              "      <td>7</td>\n",
              "      <td>0.445026</td>\n",
              "      <td>0.274531</td>\n",
              "      <td>0.444334</td>\n",
              "      <td>25.606721</td>\n",
              "      <td>0.300298</td>\n",
              "      <td>0.0</td>\n",
              "      <td>0</td>\n",
              "      <td>50</td>\n",
              "      <td>0.244418</td>\n",
              "      <td>0</td>\n",
              "    </tr>\n",
              "    <tr>\n",
              "      <th>3</th>\n",
              "      <td>19</td>\n",
              "      <td>218.593930</td>\n",
              "      <td>427862</td>\n",
              "      <td>0.179322</td>\n",
              "      <td>10</td>\n",
              "      <td>0.049127</td>\n",
              "      <td>0.044987</td>\n",
              "      <td>0.009499</td>\n",
              "      <td>25.606721</td>\n",
              "      <td>0.300298</td>\n",
              "      <td>0.0</td>\n",
              "      <td>0</td>\n",
              "      <td>35</td>\n",
              "      <td>0.244418</td>\n",
              "      <td>0</td>\n",
              "    </tr>\n",
              "    <tr>\n",
              "      <th>4</th>\n",
              "      <td>44</td>\n",
              "      <td>218.593930</td>\n",
              "      <td>109339</td>\n",
              "      <td>0.032491</td>\n",
              "      <td>7</td>\n",
              "      <td>0.098837</td>\n",
              "      <td>0.115721</td>\n",
              "      <td>0.066581</td>\n",
              "      <td>5.970149</td>\n",
              "      <td>0.113590</td>\n",
              "      <td>0.0</td>\n",
              "      <td>0</td>\n",
              "      <td>46</td>\n",
              "      <td>0.185185</td>\n",
              "      <td>0</td>\n",
              "    </tr>\n",
              "  </tbody>\n",
              "</table>\n",
              "</div>\n",
              "    <div class=\"colab-df-buttons\">\n",
              "\n",
              "  <div class=\"colab-df-container\">\n",
              "    <button class=\"colab-df-convert\" onclick=\"convertToInteractive('df-c6bdd20c-b30e-4999-b4a5-6646a8e6e9db')\"\n",
              "            title=\"Convert this dataframe to an interactive table.\"\n",
              "            style=\"display:none;\">\n",
              "\n",
              "  <svg xmlns=\"http://www.w3.org/2000/svg\" height=\"24px\" viewBox=\"0 -960 960 960\">\n",
              "    <path d=\"M120-120v-720h720v720H120Zm60-500h600v-160H180v160Zm220 220h160v-160H400v160Zm0 220h160v-160H400v160ZM180-400h160v-160H180v160Zm440 0h160v-160H620v160ZM180-180h160v-160H180v160Zm440 0h160v-160H620v160Z\"/>\n",
              "  </svg>\n",
              "    </button>\n",
              "\n",
              "  <style>\n",
              "    .colab-df-container {\n",
              "      display:flex;\n",
              "      gap: 12px;\n",
              "    }\n",
              "\n",
              "    .colab-df-convert {\n",
              "      background-color: #E8F0FE;\n",
              "      border: none;\n",
              "      border-radius: 50%;\n",
              "      cursor: pointer;\n",
              "      display: none;\n",
              "      fill: #1967D2;\n",
              "      height: 32px;\n",
              "      padding: 0 0 0 0;\n",
              "      width: 32px;\n",
              "    }\n",
              "\n",
              "    .colab-df-convert:hover {\n",
              "      background-color: #E2EBFA;\n",
              "      box-shadow: 0px 1px 2px rgba(60, 64, 67, 0.3), 0px 1px 3px 1px rgba(60, 64, 67, 0.15);\n",
              "      fill: #174EA6;\n",
              "    }\n",
              "\n",
              "    .colab-df-buttons div {\n",
              "      margin-bottom: 4px;\n",
              "    }\n",
              "\n",
              "    [theme=dark] .colab-df-convert {\n",
              "      background-color: #3B4455;\n",
              "      fill: #D2E3FC;\n",
              "    }\n",
              "\n",
              "    [theme=dark] .colab-df-convert:hover {\n",
              "      background-color: #434B5C;\n",
              "      box-shadow: 0px 1px 3px 1px rgba(0, 0, 0, 0.15);\n",
              "      filter: drop-shadow(0px 1px 2px rgba(0, 0, 0, 0.3));\n",
              "      fill: #FFFFFF;\n",
              "    }\n",
              "  </style>\n",
              "\n",
              "    <script>\n",
              "      const buttonEl =\n",
              "        document.querySelector('#df-c6bdd20c-b30e-4999-b4a5-6646a8e6e9db button.colab-df-convert');\n",
              "      buttonEl.style.display =\n",
              "        google.colab.kernel.accessAllowed ? 'block' : 'none';\n",
              "\n",
              "      async function convertToInteractive(key) {\n",
              "        const element = document.querySelector('#df-c6bdd20c-b30e-4999-b4a5-6646a8e6e9db');\n",
              "        const dataTable =\n",
              "          await google.colab.kernel.invokeFunction('convertToInteractive',\n",
              "                                                    [key], {});\n",
              "        if (!dataTable) return;\n",
              "\n",
              "        const docLinkHtml = 'Like what you see? Visit the ' +\n",
              "          '<a target=\"_blank\" href=https://colab.research.google.com/notebooks/data_table.ipynb>data table notebook</a>'\n",
              "          + ' to learn more about interactive tables.';\n",
              "        element.innerHTML = '';\n",
              "        dataTable['output_type'] = 'display_data';\n",
              "        await google.colab.output.renderOutput(dataTable, element);\n",
              "        const docLink = document.createElement('div');\n",
              "        docLink.innerHTML = docLinkHtml;\n",
              "        element.appendChild(docLink);\n",
              "      }\n",
              "    </script>\n",
              "  </div>\n",
              "\n",
              "\n",
              "<div id=\"df-01eb38fa-4d9e-492a-9bb1-cc07394e0187\">\n",
              "  <button class=\"colab-df-quickchart\" onclick=\"quickchart('df-01eb38fa-4d9e-492a-9bb1-cc07394e0187')\"\n",
              "            title=\"Suggest charts\"\n",
              "            style=\"display:none;\">\n",
              "\n",
              "<svg xmlns=\"http://www.w3.org/2000/svg\" height=\"24px\"viewBox=\"0 0 24 24\"\n",
              "     width=\"24px\">\n",
              "    <g>\n",
              "        <path d=\"M19 3H5c-1.1 0-2 .9-2 2v14c0 1.1.9 2 2 2h14c1.1 0 2-.9 2-2V5c0-1.1-.9-2-2-2zM9 17H7v-7h2v7zm4 0h-2V7h2v10zm4 0h-2v-4h2v4z\"/>\n",
              "    </g>\n",
              "</svg>\n",
              "  </button>\n",
              "\n",
              "<style>\n",
              "  .colab-df-quickchart {\n",
              "      --bg-color: #E8F0FE;\n",
              "      --fill-color: #1967D2;\n",
              "      --hover-bg-color: #E2EBFA;\n",
              "      --hover-fill-color: #174EA6;\n",
              "      --disabled-fill-color: #AAA;\n",
              "      --disabled-bg-color: #DDD;\n",
              "  }\n",
              "\n",
              "  [theme=dark] .colab-df-quickchart {\n",
              "      --bg-color: #3B4455;\n",
              "      --fill-color: #D2E3FC;\n",
              "      --hover-bg-color: #434B5C;\n",
              "      --hover-fill-color: #FFFFFF;\n",
              "      --disabled-bg-color: #3B4455;\n",
              "      --disabled-fill-color: #666;\n",
              "  }\n",
              "\n",
              "  .colab-df-quickchart {\n",
              "    background-color: var(--bg-color);\n",
              "    border: none;\n",
              "    border-radius: 50%;\n",
              "    cursor: pointer;\n",
              "    display: none;\n",
              "    fill: var(--fill-color);\n",
              "    height: 32px;\n",
              "    padding: 0;\n",
              "    width: 32px;\n",
              "  }\n",
              "\n",
              "  .colab-df-quickchart:hover {\n",
              "    background-color: var(--hover-bg-color);\n",
              "    box-shadow: 0 1px 2px rgba(60, 64, 67, 0.3), 0 1px 3px 1px rgba(60, 64, 67, 0.15);\n",
              "    fill: var(--button-hover-fill-color);\n",
              "  }\n",
              "\n",
              "  .colab-df-quickchart-complete:disabled,\n",
              "  .colab-df-quickchart-complete:disabled:hover {\n",
              "    background-color: var(--disabled-bg-color);\n",
              "    fill: var(--disabled-fill-color);\n",
              "    box-shadow: none;\n",
              "  }\n",
              "\n",
              "  .colab-df-spinner {\n",
              "    border: 2px solid var(--fill-color);\n",
              "    border-color: transparent;\n",
              "    border-bottom-color: var(--fill-color);\n",
              "    animation:\n",
              "      spin 1s steps(1) infinite;\n",
              "  }\n",
              "\n",
              "  @keyframes spin {\n",
              "    0% {\n",
              "      border-color: transparent;\n",
              "      border-bottom-color: var(--fill-color);\n",
              "      border-left-color: var(--fill-color);\n",
              "    }\n",
              "    20% {\n",
              "      border-color: transparent;\n",
              "      border-left-color: var(--fill-color);\n",
              "      border-top-color: var(--fill-color);\n",
              "    }\n",
              "    30% {\n",
              "      border-color: transparent;\n",
              "      border-left-color: var(--fill-color);\n",
              "      border-top-color: var(--fill-color);\n",
              "      border-right-color: var(--fill-color);\n",
              "    }\n",
              "    40% {\n",
              "      border-color: transparent;\n",
              "      border-right-color: var(--fill-color);\n",
              "      border-top-color: var(--fill-color);\n",
              "    }\n",
              "    60% {\n",
              "      border-color: transparent;\n",
              "      border-right-color: var(--fill-color);\n",
              "    }\n",
              "    80% {\n",
              "      border-color: transparent;\n",
              "      border-right-color: var(--fill-color);\n",
              "      border-bottom-color: var(--fill-color);\n",
              "    }\n",
              "    90% {\n",
              "      border-color: transparent;\n",
              "      border-bottom-color: var(--fill-color);\n",
              "    }\n",
              "  }\n",
              "</style>\n",
              "\n",
              "  <script>\n",
              "    async function quickchart(key) {\n",
              "      const quickchartButtonEl =\n",
              "        document.querySelector('#' + key + ' button');\n",
              "      quickchartButtonEl.disabled = true;  // To prevent multiple clicks.\n",
              "      quickchartButtonEl.classList.add('colab-df-spinner');\n",
              "      try {\n",
              "        const charts = await google.colab.kernel.invokeFunction(\n",
              "            'suggestCharts', [key], {});\n",
              "      } catch (error) {\n",
              "        console.error('Error during call to suggestCharts:', error);\n",
              "      }\n",
              "      quickchartButtonEl.classList.remove('colab-df-spinner');\n",
              "      quickchartButtonEl.classList.add('colab-df-quickchart-complete');\n",
              "    }\n",
              "    (() => {\n",
              "      let quickchartButtonEl =\n",
              "        document.querySelector('#df-01eb38fa-4d9e-492a-9bb1-cc07394e0187 button');\n",
              "      quickchartButtonEl.style.display =\n",
              "        google.colab.kernel.accessAllowed ? 'block' : 'none';\n",
              "    })();\n",
              "  </script>\n",
              "</div>\n",
              "    </div>\n",
              "  </div>\n"
            ],
            "application/vnd.google.colaboratory.intrinsic+json": {
              "type": "dataframe",
              "variable_name": "Xtrain",
              "summary": "{\n  \"name\": \"Xtrain\",\n  \"rows\": 7500,\n  \"fields\": [\n    {\n      \"column\": \"f1\",\n      \"properties\": {\n        \"dtype\": \"number\",\n        \"std\": 13,\n        \"min\": 17,\n        \"max\": 90,\n        \"num_unique_values\": 70,\n        \"samples\": [\n          59,\n          50,\n          63\n        ],\n        \"semantic_type\": \"\",\n        \"description\": \"\"\n      }\n    },\n    {\n      \"column\": \"f2\",\n      \"properties\": {\n        \"dtype\": \"number\",\n        \"std\": 76.19828185011917,\n        \"min\": 64.2590702793375,\n        \"max\": 575.3968253968253,\n        \"num_unique_values\": 8,\n        \"samples\": [\n          276.7710049423393,\n          114.41647597254,\n          218.5939300806761\n        ],\n        \"semantic_type\": \"\",\n        \"description\": \"\"\n      }\n    },\n    {\n      \"column\": \"f3\",\n      \"properties\": {\n        \"dtype\": \"number\",\n        \"std\": 105867,\n        \"min\": 19302,\n        \"max\": 1226583,\n        \"num_unique_values\": 6602,\n        \"samples\": [\n          136721,\n          88842,\n          176077\n        ],\n        \"semantic_type\": \"\",\n        \"description\": \"\"\n      }\n    },\n    {\n      \"column\": \"f4\",\n      \"properties\": {\n        \"dtype\": \"number\",\n        \"std\": 0.1517381753794747,\n        \"min\": 2.948307735566308e-05,\n        \"max\": 0.7293233082706767,\n        \"num_unique_values\": 16,\n        \"samples\": [\n          0.1045751633986928,\n          0.2246835443037974,\n          0.5463659147869674\n        ],\n        \"semantic_type\": \"\",\n        \"description\": \"\"\n      }\n    },\n    {\n      \"column\": \"f5\",\n      \"properties\": {\n        \"dtype\": \"number\",\n        \"std\": 2,\n        \"min\": 1,\n        \"max\": 16,\n        \"num_unique_values\": 16,\n        \"samples\": [\n          4,\n          11,\n          14\n        ],\n        \"semantic_type\": \"\",\n        \"description\": \"\"\n      }\n    },\n    {\n      \"column\": \"f6\",\n      \"properties\": {\n        \"dtype\": \"number\",\n        \"std\": 0.1902828890184031,\n        \"min\": 0.0491270807957775,\n        \"max\": 0.4450261780104712,\n        \"num_unique_values\": 7,\n        \"samples\": [\n          0.4450261780104712,\n          0.0491270807957775,\n          0.0736842105263157\n        ],\n        \"semantic_type\": \"\",\n        \"description\": \"\"\n      }\n    },\n    {\n      \"column\": \"f7\",\n      \"properties\": {\n        \"dtype\": \"number\",\n        \"std\": 0.14737107609801495,\n        \"min\": 0.0,\n        \"max\": 0.4822222222222222,\n        \"num_unique_values\": 15,\n        \"samples\": [\n          0.0,\n          0.3066037735849056,\n          0.2745314222712238\n        ],\n        \"semantic_type\": \"\",\n        \"description\": \"\"\n      }\n    },\n    {\n      \"column\": \"f8\",\n      \"properties\": {\n        \"dtype\": \"number\",\n        \"std\": 0.19336545220019763,\n        \"min\": 0.0094991364421416,\n        \"max\": 0.484375,\n        \"num_unique_values\": 6,\n        \"samples\": [\n          0.4443336656696577,\n          0.0094991364421416,\n          0.484375\n        ],\n        \"semantic_type\": \"\",\n        \"description\": \"\"\n      }\n    },\n    {\n      \"column\": \"f9\",\n      \"properties\": {\n        \"dtype\": \"number\",\n        \"std\": 4.451530117433344,\n        \"min\": 5.97014925373134,\n        \"max\": 25.606720597386428,\n        \"num_unique_values\": 5,\n        \"samples\": [\n          25.606720597386428,\n          10.29411764705882,\n          12.46498599439775\n        ],\n        \"semantic_type\": \"\",\n        \"description\": \"\"\n      }\n    },\n    {\n      \"column\": \"f10\",\n      \"properties\": {\n        \"dtype\": \"number\",\n        \"std\": 0.08770775718099966,\n        \"min\": 0.1135902636916835,\n        \"max\": 0.3002979145978153,\n        \"num_unique_values\": 2,\n        \"samples\": [\n          0.1135902636916835,\n          0.3002979145978153\n        ],\n        \"semantic_type\": \"\",\n        \"description\": \"\"\n      }\n    },\n    {\n      \"column\": \"f11\",\n      \"properties\": {\n        \"dtype\": \"number\",\n        \"std\": 7430.3447704314995,\n        \"min\": 0.0,\n        \"max\": 99999.0,\n        \"num_unique_values\": 95,\n        \"samples\": [\n          3456.0,\n          3942.0\n        ],\n        \"semantic_type\": \"\",\n        \"description\": \"\"\n      }\n    },\n    {\n      \"column\": \"f12\",\n      \"properties\": {\n        \"dtype\": \"number\",\n        \"std\": 404,\n        \"min\": 0,\n        \"max\": 4356,\n        \"num_unique_values\": 69,\n        \"samples\": [\n          2282,\n          0\n        ],\n        \"semantic_type\": \"\",\n        \"description\": \"\"\n      }\n    },\n    {\n      \"column\": \"f13\",\n      \"properties\": {\n        \"dtype\": \"number\",\n        \"std\": 12,\n        \"min\": 1,\n        \"max\": 99,\n        \"num_unique_values\": 82,\n        \"samples\": [\n          31,\n          49\n        ],\n        \"semantic_type\": \"\",\n        \"description\": \"\"\n      }\n    },\n    {\n      \"column\": \"f14\",\n      \"properties\": {\n        \"dtype\": \"number\",\n        \"std\": 0.04168480051512073,\n        \"min\": 8.012632450609848e-05,\n        \"max\": 0.4666664773000171,\n        \"num_unique_values\": 35,\n        \"samples\": [\n          0.2000000323741579,\n          0.0588235496804506\n        ],\n        \"semantic_type\": \"\",\n        \"description\": \"\"\n      }\n    },\n    {\n      \"column\": \"target\",\n      \"properties\": {\n        \"dtype\": \"number\",\n        \"std\": 0,\n        \"min\": 0,\n        \"max\": 1,\n        \"num_unique_values\": 2,\n        \"samples\": [\n          1,\n          0\n        ],\n        \"semantic_type\": \"\",\n        \"description\": \"\"\n      }\n    }\n  ]\n}"
            }
          },
          "metadata": {},
          "execution_count": 4
        }
      ],
      "source": [
        "# Ваш код здесь\n",
        "Xtrain.head()"
      ]
    },
    {
      "cell_type": "code",
      "source": [
        "Xtrain.info()"
      ],
      "metadata": {
        "colab": {
          "base_uri": "https://localhost:8080/"
        },
        "id": "vQkHD-YXIihx",
        "outputId": "3f9086fb-ede6-4222-be7a-c141b930c39f"
      },
      "execution_count": null,
      "outputs": [
        {
          "output_type": "stream",
          "name": "stdout",
          "text": [
            "<class 'pandas.core.frame.DataFrame'>\n",
            "RangeIndex: 7500 entries, 0 to 7499\n",
            "Data columns (total 15 columns):\n",
            " #   Column  Non-Null Count  Dtype  \n",
            "---  ------  --------------  -----  \n",
            " 0   f1      7500 non-null   int64  \n",
            " 1   f2      7425 non-null   float64\n",
            " 2   f3      7500 non-null   int64  \n",
            " 3   f4      7500 non-null   float64\n",
            " 4   f5      7500 non-null   int64  \n",
            " 5   f6      7500 non-null   float64\n",
            " 6   f7      5625 non-null   float64\n",
            " 7   f8      7500 non-null   float64\n",
            " 8   f9      7500 non-null   float64\n",
            " 9   f10     7500 non-null   float64\n",
            " 10  f11     7490 non-null   float64\n",
            " 11  f12     7500 non-null   int64  \n",
            " 12  f13     7500 non-null   int64  \n",
            " 13  f14     7500 non-null   float64\n",
            " 14  target  7500 non-null   int64  \n",
            "dtypes: float64(9), int64(6)\n",
            "memory usage: 879.0 KB\n"
          ]
        }
      ]
    },
    {
      "cell_type": "markdown",
      "source": [
        "Из общей информации Xtrain следует:\n",
        "\n",
        "DataFrame содержит 7500 записей (от индекса 0 до 7499)\n",
        "\n",
        "Всего 15 колонок\n",
        "\n",
        "Нулевые значения отсуствуют\n",
        "\n",
        "Пропущенные значения присуствуют в столбиках f2, f7, f11"
      ],
      "metadata": {
        "id": "gBozpih-IoSo"
      }
    },
    {
      "cell_type": "code",
      "source": [
        "duplicate_Xtrain = Xtrain[Xtrain.duplicated()]\n",
        "print(\"number of duplicate rows: \", duplicate_Xtrain.shape)"
      ],
      "metadata": {
        "colab": {
          "base_uri": "https://localhost:8080/"
        },
        "id": "Dng5pNqmIpev",
        "outputId": "576a806e-efd9-4aac-9028-274c40a99822"
      },
      "execution_count": null,
      "outputs": [
        {
          "output_type": "stream",
          "name": "stdout",
          "text": [
            "number of duplicate rows:  (0, 15)\n"
          ]
        }
      ]
    },
    {
      "cell_type": "code",
      "source": [
        "# Проверка на NaN значения\n",
        "Xtrain.isnull().any().any()"
      ],
      "metadata": {
        "colab": {
          "base_uri": "https://localhost:8080/"
        },
        "id": "dh5z4XgJIvcq",
        "outputId": "99b91c0a-d508-4166-cf39-55e44a5d96c2"
      },
      "execution_count": null,
      "outputs": [
        {
          "output_type": "execute_result",
          "data": {
            "text/plain": [
              "True"
            ]
          },
          "metadata": {},
          "execution_count": 7
        }
      ]
    },
    {
      "cell_type": "code",
      "source": [
        "# Проверка на нулевые значения\n",
        "Xtrain.isnull().sum()"
      ],
      "metadata": {
        "colab": {
          "base_uri": "https://localhost:8080/",
          "height": 554
        },
        "id": "xOxNkz42Ixto",
        "outputId": "b23353d6-7b6d-4bce-8b25-3a4bdd218beb"
      },
      "execution_count": null,
      "outputs": [
        {
          "output_type": "execute_result",
          "data": {
            "text/plain": [
              "f1           0\n",
              "f2          75\n",
              "f3           0\n",
              "f4           0\n",
              "f5           0\n",
              "f6           0\n",
              "f7        1875\n",
              "f8           0\n",
              "f9           0\n",
              "f10          0\n",
              "f11         10\n",
              "f12          0\n",
              "f13          0\n",
              "f14          0\n",
              "target       0\n",
              "dtype: int64"
            ],
            "text/html": [
              "<div>\n",
              "<style scoped>\n",
              "    .dataframe tbody tr th:only-of-type {\n",
              "        vertical-align: middle;\n",
              "    }\n",
              "\n",
              "    .dataframe tbody tr th {\n",
              "        vertical-align: top;\n",
              "    }\n",
              "\n",
              "    .dataframe thead th {\n",
              "        text-align: right;\n",
              "    }\n",
              "</style>\n",
              "<table border=\"1\" class=\"dataframe\">\n",
              "  <thead>\n",
              "    <tr style=\"text-align: right;\">\n",
              "      <th></th>\n",
              "      <th>0</th>\n",
              "    </tr>\n",
              "  </thead>\n",
              "  <tbody>\n",
              "    <tr>\n",
              "      <th>f1</th>\n",
              "      <td>0</td>\n",
              "    </tr>\n",
              "    <tr>\n",
              "      <th>f2</th>\n",
              "      <td>75</td>\n",
              "    </tr>\n",
              "    <tr>\n",
              "      <th>f3</th>\n",
              "      <td>0</td>\n",
              "    </tr>\n",
              "    <tr>\n",
              "      <th>f4</th>\n",
              "      <td>0</td>\n",
              "    </tr>\n",
              "    <tr>\n",
              "      <th>f5</th>\n",
              "      <td>0</td>\n",
              "    </tr>\n",
              "    <tr>\n",
              "      <th>f6</th>\n",
              "      <td>0</td>\n",
              "    </tr>\n",
              "    <tr>\n",
              "      <th>f7</th>\n",
              "      <td>1875</td>\n",
              "    </tr>\n",
              "    <tr>\n",
              "      <th>f8</th>\n",
              "      <td>0</td>\n",
              "    </tr>\n",
              "    <tr>\n",
              "      <th>f9</th>\n",
              "      <td>0</td>\n",
              "    </tr>\n",
              "    <tr>\n",
              "      <th>f10</th>\n",
              "      <td>0</td>\n",
              "    </tr>\n",
              "    <tr>\n",
              "      <th>f11</th>\n",
              "      <td>10</td>\n",
              "    </tr>\n",
              "    <tr>\n",
              "      <th>f12</th>\n",
              "      <td>0</td>\n",
              "    </tr>\n",
              "    <tr>\n",
              "      <th>f13</th>\n",
              "      <td>0</td>\n",
              "    </tr>\n",
              "    <tr>\n",
              "      <th>f14</th>\n",
              "      <td>0</td>\n",
              "    </tr>\n",
              "    <tr>\n",
              "      <th>target</th>\n",
              "      <td>0</td>\n",
              "    </tr>\n",
              "  </tbody>\n",
              "</table>\n",
              "</div><br><label><b>dtype:</b> int64</label>"
            ]
          },
          "metadata": {},
          "execution_count": 8
        }
      ]
    },
    {
      "cell_type": "markdown",
      "source": [
        "В DataFrame присуствуют нулевые значения, для начала их нужно обработать и заполниить NaN средними значениями"
      ],
      "metadata": {
        "id": "f2Du2c9JJHH9"
      }
    },
    {
      "cell_type": "code",
      "source": [
        "# создаём новый DataFrame\n",
        "median_Xtrain = pd.DataFrame(Xtrain)\n",
        "\n",
        "# Заполнение NaN медианами соответствующих столбцов\n",
        "fix_Xtrain = median_Xtrain.fillna(median_Xtrain.median())\n",
        "\n",
        "print(\"Исходный DataFrame:\")\n",
        "print(median_Xtrain)\n",
        "print(\"\\nDataFrame после заполнения медианами:\")\n",
        "print(fix_Xtrain)"
      ],
      "metadata": {
        "colab": {
          "base_uri": "https://localhost:8080/"
        },
        "id": "W82ibv-GJTIF",
        "outputId": "2f886519-1673-40bd-c40b-6cdcab8fa84b"
      },
      "execution_count": null,
      "outputs": [
        {
          "output_type": "stream",
          "name": "stdout",
          "text": [
            "Исходный DataFrame:\n",
            "      f1          f2      f3        f4  f5        f6        f7        f8  \\\n",
            "0     50  218.593930  273536  0.104575   4  0.445026  0.274531  0.444334   \n",
            "1     32  276.771005  173314  0.224684  11  0.445026  0.439103  0.444334   \n",
            "2     38  218.593930   28887  0.032491   7  0.445026  0.274531  0.444334   \n",
            "3     19  218.593930  427862  0.179322  10  0.049127  0.044987  0.009499   \n",
            "4     44  218.593930  109339  0.032491   7  0.098837  0.115721  0.066581   \n",
            "...   ..         ...     ...       ...  ..       ...       ...       ...   \n",
            "7495  48  218.593930  329778  0.171817   9  0.066372       NaN  0.066581   \n",
            "7496  25  218.593930  104439  0.179322  10  0.049127  0.131370  0.103024   \n",
            "7497  50  218.593930  162632  0.171817   9  0.445026  0.482222  0.444334   \n",
            "7498  51  276.771005  174824  0.171817   9  0.049127  0.093897  0.103024   \n",
            "7499  29  263.691684  180916  0.179322  10  0.066390  0.131370  0.066581   \n",
            "\n",
            "             f9       f10     f11  f12  f13       f14  target  \n",
            "0      5.970149  0.300298     0.0    0   49  0.100000       0  \n",
            "1      5.970149  0.300298     0.0    0   60  0.244418       0  \n",
            "2     25.606721  0.300298     0.0    0   50  0.244418       0  \n",
            "3     25.606721  0.300298     0.0    0   35  0.244418       0  \n",
            "4      5.970149  0.113590     0.0    0   46  0.185185       0  \n",
            "...         ...       ...     ...  ...  ...       ...     ...  \n",
            "7495  25.606721  0.113590     0.0    0   40  0.244418       0  \n",
            "7496  25.606721  0.113590     0.0    0   50  0.244418       0  \n",
            "7497  25.606721  0.300298     0.0    0   45  0.244418       0  \n",
            "7498  25.606721  0.300298  8614.0    0   40  0.244418       1  \n",
            "7499  25.606721  0.113590     0.0    0   38  0.244418       0  \n",
            "\n",
            "[7500 rows x 15 columns]\n",
            "\n",
            "DataFrame после заполнения медианами:\n",
            "      f1          f2      f3        f4  f5        f6        f7        f8  \\\n",
            "0     50  218.593930  273536  0.104575   4  0.445026  0.274531  0.444334   \n",
            "1     32  276.771005  173314  0.224684  11  0.445026  0.439103  0.444334   \n",
            "2     38  218.593930   28887  0.032491   7  0.445026  0.274531  0.444334   \n",
            "3     19  218.593930  427862  0.179322  10  0.049127  0.044987  0.009499   \n",
            "4     44  218.593930  109339  0.032491   7  0.098837  0.115721  0.066581   \n",
            "...   ..         ...     ...       ...  ..       ...       ...       ...   \n",
            "7495  48  218.593930  329778  0.171817   9  0.066372  0.241573  0.066581   \n",
            "7496  25  218.593930  104439  0.179322  10  0.049127  0.131370  0.103024   \n",
            "7497  50  218.593930  162632  0.171817   9  0.445026  0.482222  0.444334   \n",
            "7498  51  276.771005  174824  0.171817   9  0.049127  0.093897  0.103024   \n",
            "7499  29  263.691684  180916  0.179322  10  0.066390  0.131370  0.066581   \n",
            "\n",
            "             f9       f10     f11  f12  f13       f14  target  \n",
            "0      5.970149  0.300298     0.0    0   49  0.100000       0  \n",
            "1      5.970149  0.300298     0.0    0   60  0.244418       0  \n",
            "2     25.606721  0.300298     0.0    0   50  0.244418       0  \n",
            "3     25.606721  0.300298     0.0    0   35  0.244418       0  \n",
            "4      5.970149  0.113590     0.0    0   46  0.185185       0  \n",
            "...         ...       ...     ...  ...  ...       ...     ...  \n",
            "7495  25.606721  0.113590     0.0    0   40  0.244418       0  \n",
            "7496  25.606721  0.113590     0.0    0   50  0.244418       0  \n",
            "7497  25.606721  0.300298     0.0    0   45  0.244418       0  \n",
            "7498  25.606721  0.300298  8614.0    0   40  0.244418       1  \n",
            "7499  25.606721  0.113590     0.0    0   38  0.244418       0  \n",
            "\n",
            "[7500 rows x 15 columns]\n"
          ]
        }
      ]
    },
    {
      "cell_type": "code",
      "source": [
        "# Проверка на NaN значения\n",
        "fix_Xtrain.isnull().any().any()"
      ],
      "metadata": {
        "colab": {
          "base_uri": "https://localhost:8080/"
        },
        "id": "y8ebXKc_JVwn",
        "outputId": "befe72e9-841a-4071-ce86-62607c13039d"
      },
      "execution_count": null,
      "outputs": [
        {
          "output_type": "execute_result",
          "data": {
            "text/plain": [
              "False"
            ]
          },
          "metadata": {},
          "execution_count": 10
        }
      ]
    },
    {
      "cell_type": "code",
      "source": [
        "# Проверка на нулевые значения\n",
        "fix_Xtrain.isnull().sum()"
      ],
      "metadata": {
        "colab": {
          "base_uri": "https://localhost:8080/",
          "height": 554
        },
        "id": "BgJbGtKIJZal",
        "outputId": "cfe90f9d-e9a4-4866-c3a2-33de5bb47950"
      },
      "execution_count": null,
      "outputs": [
        {
          "output_type": "execute_result",
          "data": {
            "text/plain": [
              "f1        0\n",
              "f2        0\n",
              "f3        0\n",
              "f4        0\n",
              "f5        0\n",
              "f6        0\n",
              "f7        0\n",
              "f8        0\n",
              "f9        0\n",
              "f10       0\n",
              "f11       0\n",
              "f12       0\n",
              "f13       0\n",
              "f14       0\n",
              "target    0\n",
              "dtype: int64"
            ],
            "text/html": [
              "<div>\n",
              "<style scoped>\n",
              "    .dataframe tbody tr th:only-of-type {\n",
              "        vertical-align: middle;\n",
              "    }\n",
              "\n",
              "    .dataframe tbody tr th {\n",
              "        vertical-align: top;\n",
              "    }\n",
              "\n",
              "    .dataframe thead th {\n",
              "        text-align: right;\n",
              "    }\n",
              "</style>\n",
              "<table border=\"1\" class=\"dataframe\">\n",
              "  <thead>\n",
              "    <tr style=\"text-align: right;\">\n",
              "      <th></th>\n",
              "      <th>0</th>\n",
              "    </tr>\n",
              "  </thead>\n",
              "  <tbody>\n",
              "    <tr>\n",
              "      <th>f1</th>\n",
              "      <td>0</td>\n",
              "    </tr>\n",
              "    <tr>\n",
              "      <th>f2</th>\n",
              "      <td>0</td>\n",
              "    </tr>\n",
              "    <tr>\n",
              "      <th>f3</th>\n",
              "      <td>0</td>\n",
              "    </tr>\n",
              "    <tr>\n",
              "      <th>f4</th>\n",
              "      <td>0</td>\n",
              "    </tr>\n",
              "    <tr>\n",
              "      <th>f5</th>\n",
              "      <td>0</td>\n",
              "    </tr>\n",
              "    <tr>\n",
              "      <th>f6</th>\n",
              "      <td>0</td>\n",
              "    </tr>\n",
              "    <tr>\n",
              "      <th>f7</th>\n",
              "      <td>0</td>\n",
              "    </tr>\n",
              "    <tr>\n",
              "      <th>f8</th>\n",
              "      <td>0</td>\n",
              "    </tr>\n",
              "    <tr>\n",
              "      <th>f9</th>\n",
              "      <td>0</td>\n",
              "    </tr>\n",
              "    <tr>\n",
              "      <th>f10</th>\n",
              "      <td>0</td>\n",
              "    </tr>\n",
              "    <tr>\n",
              "      <th>f11</th>\n",
              "      <td>0</td>\n",
              "    </tr>\n",
              "    <tr>\n",
              "      <th>f12</th>\n",
              "      <td>0</td>\n",
              "    </tr>\n",
              "    <tr>\n",
              "      <th>f13</th>\n",
              "      <td>0</td>\n",
              "    </tr>\n",
              "    <tr>\n",
              "      <th>f14</th>\n",
              "      <td>0</td>\n",
              "    </tr>\n",
              "    <tr>\n",
              "      <th>target</th>\n",
              "      <td>0</td>\n",
              "    </tr>\n",
              "  </tbody>\n",
              "</table>\n",
              "</div><br><label><b>dtype:</b> int64</label>"
            ]
          },
          "metadata": {},
          "execution_count": 11
        }
      ]
    },
    {
      "cell_type": "code",
      "source": [
        "Xtest.info()"
      ],
      "metadata": {
        "colab": {
          "base_uri": "https://localhost:8080/"
        },
        "id": "dIsKW1MhJgeP",
        "outputId": "d5f2422a-a490-4707-ed8b-8fb325c5560e"
      },
      "execution_count": null,
      "outputs": [
        {
          "output_type": "stream",
          "name": "stdout",
          "text": [
            "<class 'pandas.core.frame.DataFrame'>\n",
            "RangeIndex: 2500 entries, 0 to 2499\n",
            "Data columns (total 15 columns):\n",
            " #   Column  Non-Null Count  Dtype  \n",
            "---  ------  --------------  -----  \n",
            " 0   f1      2500 non-null   int64  \n",
            " 1   f2      2500 non-null   float64\n",
            " 2   f3      2500 non-null   int64  \n",
            " 3   f4      2500 non-null   float64\n",
            " 4   f5      2500 non-null   int64  \n",
            " 5   f6      2500 non-null   float64\n",
            " 6   f7      2500 non-null   float64\n",
            " 7   f8      2500 non-null   float64\n",
            " 8   f9      2500 non-null   float64\n",
            " 9   f10     2500 non-null   float64\n",
            " 10  f11     2500 non-null   int64  \n",
            " 11  f12     2500 non-null   int64  \n",
            " 12  f13     2500 non-null   int64  \n",
            " 13  f14     2500 non-null   float64\n",
            " 14  target  2500 non-null   int64  \n",
            "dtypes: float64(8), int64(7)\n",
            "memory usage: 293.1 KB\n"
          ]
        }
      ]
    },
    {
      "cell_type": "markdown",
      "source": [
        "DataFrame содержит 2500 записей (от индекса 0 до 2499)\n",
        "\n",
        "Всего 15 колонок\n",
        "\n",
        "Нулевые значения отсуствуют\n",
        "\n",
        "Нет пропущеных записей в колонках"
      ],
      "metadata": {
        "id": "uqm-fnBNJ7Yj"
      }
    },
    {
      "cell_type": "markdown",
      "metadata": {
        "id": "oQkpwQGHtWcr"
      },
      "source": [
        "### 2. Оцените баланс классов в задаче\n",
        "- Затем попытайтесь устно ответить на вопрос, можно ли использовать accuracy как метрику качества в задаче?"
      ]
    },
    {
      "cell_type": "code",
      "execution_count": null,
      "metadata": {
        "id": "csjvNCCutWcs",
        "colab": {
          "base_uri": "https://localhost:8080/"
        },
        "outputId": "002e0433-6bc4-4189-a469-cdc5930bf268"
      },
      "outputs": [
        {
          "output_type": "stream",
          "name": "stdout",
          "text": [
            "Xtrain:\n",
            "target\n",
            "0    5708\n",
            "1    1792\n",
            "Name: count, dtype: int64\n"
          ]
        }
      ],
      "source": [
        "# Ваш код здесь\n",
        "# Подсчет экземпляров для целй переменной ainint('ain:'l_coin = fix_Xtra'target'].counts()\n",
        "print('Xtrain:')\n",
        "class_counts_Xtrain = fix_Xtrain['target'].value_counts()\n",
        "print(class_counts_Xtrain)"
      ]
    },
    {
      "cell_type": "code",
      "source": [
        "# Размер графика\n",
        "plt.figure(figsize=(12, 6))\n",
        "\n",
        "# Построение графика\n",
        "class_counts_Xtrain.plot(kind='bar', color='blue')\n",
        "\n",
        "plt.title('Количество экземпляров каждого класса в target Xtrain')\n",
        "plt.ylabel('Количество экземпляров')\n",
        "plt.xlabel('Классы')\n",
        "\n",
        "# Повернуть метки оси x\n",
        "plt.xticks(rotation=0)\n",
        "\n",
        "# Показать график\n",
        "plt.show()"
      ],
      "metadata": {
        "colab": {
          "base_uri": "https://localhost:8080/",
          "height": 564
        },
        "id": "sVjSZ-v5KFD5",
        "outputId": "efbfea6e-a977-4d40-bd4f-22124c0f9538"
      },
      "execution_count": null,
      "outputs": [
        {
          "output_type": "display_data",
          "data": {
            "text/plain": [
              "<Figure size 1200x600 with 1 Axes>"
            ],
            "image/png": "[encoded data removed]"
          },
          "metadata": {}
        }
      ]
    },
    {
      "cell_type": "code",
      "source": [
        "# Минимальное и максимальное количество экземпляров класса\n",
        "min_class_count_Xtrain = class_counts_Xtrain.min()\n",
        "max_class_count_Xtrain = class_counts_Xtrain.max()\n",
        "\n",
        "# Рассчитайте коэффициент дисбаланса\n",
        "imbalance_ratio_Xtrain = min_class_count_Xtrain / max_class_count_Xtrain\n",
        "\n",
        "print(f'Минимальное количество экземпляров класса: {min_class_count_Xtrain}')\n",
        "print(f'Максимальное количество экземпляров класса: {max_class_count_Xtrain}')\n",
        "print(f'Коэффициент дисбаланса: {imbalance_ratio_Xtrain}')"
      ],
      "metadata": {
        "colab": {
          "base_uri": "https://localhost:8080/"
        },
        "id": "4bKaibDTKKKj",
        "outputId": "2388bd7a-ab0c-45e3-b54e-ebdd025f277b"
      },
      "execution_count": null,
      "outputs": [
        {
          "output_type": "stream",
          "name": "stdout",
          "text": [
            "Минимальное количество экземпляров класса: 1792\n",
            "Максимальное количество экземпляров класса: 5708\n",
            "Коэффициент дисбаланса: 0.31394533987386125\n"
          ]
        }
      ]
    },
    {
      "cell_type": "code",
      "source": [
        "# Подсчет экземпляров для целевой переменной Xtest\n",
        "print('Xtest:')\n",
        "# Подсчет экземпляров для целевой переменной\n",
        "class_counts_Xtest = Xtest['target'].value_counts()\n",
        "print(class_counts_Xtest)"
      ],
      "metadata": {
        "colab": {
          "base_uri": "https://localhost:8080/"
        },
        "id": "RD0wUzw4KNB6",
        "outputId": "560d36b1-f15b-4039-e0c5-1dd68a8afd15"
      },
      "execution_count": null,
      "outputs": [
        {
          "output_type": "stream",
          "name": "stdout",
          "text": [
            "Xtest:\n",
            "target\n",
            "0    1913\n",
            "1     587\n",
            "Name: count, dtype: int64\n"
          ]
        }
      ]
    },
    {
      "cell_type": "code",
      "source": [
        "# Размер графика\n",
        "plt.figure(figsize=(12, 6))\n",
        "\n",
        "# Построение графика\n",
        "class_counts_Xtest.plot(kind='bar', color='orange')\n",
        "\n",
        "plt.title('Количество экземпляров каждого класса в target Xtrain')\n",
        "plt.ylabel('Количество экземпляров')\n",
        "plt.xlabel('Классы')\n",
        "\n",
        "# Повернуть метки оси x\n",
        "plt.xticks(rotation=0)\n",
        "\n",
        "# Показать график\n",
        "plt.show()"
      ],
      "metadata": {
        "colab": {
          "base_uri": "https://localhost:8080/",
          "height": 564
        },
        "id": "1esfGrfnKQFm",
        "outputId": "2893f251-43d5-47d9-af02-531333d33e33"
      },
      "execution_count": null,
      "outputs": [
        {
          "output_type": "display_data",
          "data": {
            "text/plain": [
              "<Figure size 1200x600 with 1 Axes>"
            ],
            "image/png": "[encoded data removed]"
          },
          "metadata": {}
        }
      ]
    },
    {
      "cell_type": "code",
      "source": [
        "# Минимальное и максимальное количество экземпляров класса\n",
        "min_class_count_Xtest = class_counts_Xtest.min()\n",
        "max_class_count_Xtest = class_counts_Xtest.max()\n",
        "\n",
        "# Рассчитайте коэффициент дисбаланса\n",
        "imbalance_ratio_Xtest = min_class_count_Xtest / max_class_count_Xtest\n",
        "\n",
        "print(f'Минимальное количество экземпляров класса: {min_class_count_Xtest}')\n",
        "print(f'Максимальное количество экземпляров класса: {max_class_count_Xtest}')\n",
        "print(f'Коэффициент дисбаланса: {imbalance_ratio_Xtest}')"
      ],
      "metadata": {
        "colab": {
          "base_uri": "https://localhost:8080/"
        },
        "id": "OOcKKSBhKTHD",
        "outputId": "8acd3136-8f9b-4b63-dc1a-28b8e6acdf12"
      },
      "execution_count": null,
      "outputs": [
        {
          "output_type": "stream",
          "name": "stdout",
          "text": [
            "Минимальное количество экземпляров класса: 587\n",
            "Максимальное количество экземпляров класса: 1913\n",
            "Коэффициент дисбаланса: 0.30684788290642967\n"
          ]
        }
      ]
    },
    {
      "cell_type": "markdown",
      "metadata": {
        "id": "xB_ReQ62tWct"
      },
      "source": [
        "### 3. Постройте baseline-модель:\n",
        "- разбейте TrainData на тренировочные (Train) и тестовые данные (Test);\n",
        "- обучите LogisticRegression и SVC с параметрами по умолчанию на тренировочных данных (Train);\n",
        "- примените модели на тестовых данных (Test)."
      ]
    },
    {
      "cell_type": "code",
      "execution_count": null,
      "metadata": {
        "id": "WUfRVj5ctWcu",
        "colab": {
          "base_uri": "https://localhost:8080/"
        },
        "outputId": "dcaa787f-84f5-4eeb-f596-1038dc302ab3"
      },
      "outputs": [
        {
          "output_type": "stream",
          "name": "stdout",
          "text": [
            "Размер обучающего набора: (6000, 14)\n",
            "Размер тестового набора: (1500, 14)\n"
          ]
        }
      ],
      "source": [
        "from sklearn.metrics import f1_score\n",
        "\n",
        "# Ваш код здесь\n",
        "# Определение независимых и зависимых переменных\n",
        "X = fix_Xtrain.drop([\"target\"], axis=1) # Независимые переменные\n",
        "y = fix_Xtrain['target']  # Зависимая переменная\n",
        "\n",
        "# Разделение данных на обучающую и тестовую выборки\n",
        "X_train, X_test, y_train, y_test = train_test_split(X, y, test_size=0.2, random_state=42)\n",
        "\n",
        "# Выводим размеры\n",
        "print(\"Размер обучающего набора:\", X_train.shape)\n",
        "print(\"Размер тестового набора:\", X_test.shape)"
      ]
    },
    {
      "cell_type": "code",
      "source": [
        "# Обучение модели Logistic Regression\n",
        "logistic_model = LogisticRegression()\n",
        "\n",
        "# Обучение модели на обучающей выборке\n",
        "logistic_model.fit(X_train, y_train)\n",
        "\n",
        "# Обучение модели SVC\n",
        "svc_model = SVC()\n",
        "\n",
        "# Обучение модели на обучающей выборке\n",
        "svc_model.fit(X_train, y_train)\n",
        "\n",
        "# Применение модели на тестовых данных\n",
        "y_pred_logistic = logistic_model.predict(X_test)\n",
        "\n",
        "# Применение модели на тестовых данных\n",
        "y_pred_svc = svc_model.predict(X_test)\n",
        "\n",
        "# Оценка моделей\n",
        "logistic_accuracy = accuracy_score(y_test, y_pred_logistic)\n",
        "svc_accuracy = accuracy_score(y_test, y_pred_svc)\n",
        "\n",
        "print(\"Logistic Regression Accuracy:\", logistic_accuracy)\n",
        "print(\"SVC Accuracy:\", svc_accuracy)\n",
        "\n",
        "# Вывод отчетов о классификации\n",
        "print(\"\\nLogistic Regression Classification Report:\\n\", classification_report(y_test, y_pred_logistic))\n",
        "print(\"\\nSVC Classification Report:\\n\", classification_report(y_test, y_pred_svc))"
      ],
      "metadata": {
        "colab": {
          "base_uri": "https://localhost:8080/"
        },
        "id": "812wyd70LAlj",
        "outputId": "2f2b6b85-eba2-4158-923d-8da0acfa3f2d"
      },
      "execution_count": null,
      "outputs": [
        {
          "output_type": "stream",
          "name": "stderr",
          "text": [
            "/usr/local/lib/python3.10/dist-packages/sklearn/linear_model/_logistic.py:469: ConvergenceWarning: lbfgs failed to converge (status=1):\n",
            "STOP: TOTAL NO. of ITERATIONS REACHED LIMIT.\n",
            "\n",
            "Increase the number of iterations (max_iter) or scale the data as shown in:\n",
            "    https://scikit-learn.org/stable/modules/preprocessing.html\n",
            "Please also refer to the documentation for alternative solver options:\n",
            "    https://scikit-learn.org/stable/modules/linear_model.html#logistic-regression\n",
            "  n_iter_i = _check_optimize_result(\n"
          ]
        },
        {
          "output_type": "stream",
          "name": "stdout",
          "text": [
            "Logistic Regression Accuracy: 0.8046666666666666\n",
            "SVC Accuracy: 0.782\n",
            "\n",
            "Logistic Regression Classification Report:\n",
            "               precision    recall  f1-score   support\n",
            "\n",
            "           0       0.81      0.97      0.88      1158\n",
            "           1       0.71      0.25      0.36       342\n",
            "\n",
            "    accuracy                           0.80      1500\n",
            "   macro avg       0.76      0.61      0.62      1500\n",
            "weighted avg       0.79      0.80      0.77      1500\n",
            "\n",
            "\n",
            "SVC Classification Report:\n",
            "               precision    recall  f1-score   support\n",
            "\n",
            "           0       0.78      1.00      0.88      1158\n",
            "           1       0.94      0.05      0.09       342\n",
            "\n",
            "    accuracy                           0.78      1500\n",
            "   macro avg       0.86      0.52      0.48      1500\n",
            "weighted avg       0.82      0.78      0.70      1500\n",
            "\n"
          ]
        }
      ]
    },
    {
      "cell_type": "markdown",
      "source": [
        "Низкие показатели recall, f1 подтверждают дисбаланс классов который был обнаружен выше, что свидетельсвует о том, что результаты accuracu_score не  действительные. Требуется баланс классов."
      ],
      "metadata": {
        "id": "o68m9GG89iVy"
      }
    },
    {
      "cell_type": "markdown",
      "metadata": {
        "id": "KYQnr8CftWcv"
      },
      "source": [
        "### 4. Улучшите модели\n",
        "Попробуйте улучшить качество обученных моделей:\n",
        "- можете задавать class_weights;\n",
        "- можете изменять параметры модели;\n",
        "- можете вручную или при помощи методов Python генерировать новые признаки и/или удалять существующие.\n",
        "\n",
        "Это самая важная и творческая часть задания. Проводите как можно больше экспериментов!\n",
        "\n",
        "Проведите минимиум три эксперимента: для каждого типа модели минимум один эксперимент."
      ]
    },
    {
      "cell_type": "code",
      "source": [
        "# Логистическая регрессия с balanced class weights\n",
        "\n",
        "# Создание модели с учетом сбалансированных весов классов\n",
        "logistic_model_balanced = LogisticRegression(class_weight='balanced', max_iter=1000, random_state=42)\n",
        "\n",
        "# Обучение модели\n",
        "logistic_model_balanced.fit(X_train, y_train)\n",
        "\n",
        "# Предсказания и оценка\n",
        "y_pred_logistic_balanced = logistic_model_balanced.predict(X_test)\n",
        "logistic_accuracy_balanced = accuracy_score(y_test, y_pred_logistic_balanced)\n",
        "\n",
        "# Вывод отчета\n",
        "print(\"Logistic Regression (class_weight='balanced') точность:\", logistic_accuracy_balanced)\n",
        "print(\"\\nLogistic Regression Classification Report:\\n\", classification_report(y_test, y_pred_logistic_balanced))\n"
      ],
      "metadata": {
        "colab": {
          "base_uri": "https://localhost:8080/"
        },
        "id": "UZPRIIFtFHxC",
        "outputId": "11bf2353-05d8-4985-ff28-74f18e1c2cf7"
      },
      "execution_count": null,
      "outputs": [
        {
          "output_type": "stream",
          "name": "stdout",
          "text": [
            "Logistic Regression (class_weight='balanced') точность: 0.722\n",
            "\n",
            "Logistic Regression Classification Report:\n",
            "               precision    recall  f1-score   support\n",
            "\n",
            "           0       0.88      0.74      0.80      1158\n",
            "           1       0.43      0.67      0.52       342\n",
            "\n",
            "    accuracy                           0.72      1500\n",
            "   macro avg       0.66      0.70      0.66      1500\n",
            "weighted avg       0.78      0.72      0.74      1500\n",
            "\n"
          ]
        },
        {
          "output_type": "stream",
          "name": "stderr",
          "text": [
            "/usr/local/lib/python3.10/dist-packages/sklearn/linear_model/_logistic.py:469: ConvergenceWarning: lbfgs failed to converge (status=1):\n",
            "STOP: TOTAL NO. of ITERATIONS REACHED LIMIT.\n",
            "\n",
            "Increase the number of iterations (max_iter) or scale the data as shown in:\n",
            "    https://scikit-learn.org/stable/modules/preprocessing.html\n",
            "Please also refer to the documentation for alternative solver options:\n",
            "    https://scikit-learn.org/stable/modules/linear_model.html#logistic-regression\n",
            "  n_iter_i = _check_optimize_result(\n"
          ]
        }
      ]
    },
    {
      "cell_type": "code",
      "source": [
        "# Модель SVC с balanced class weights.\n",
        "\n",
        "# Настройка гиперпараметров для SVC с balanced class weights\n",
        "svc_model_balanced = SVC(class_weight='balanced', random_state=42)\n",
        "\n",
        "# Обучение модели\n",
        "svc_model_balanced.fit(X_train, y_train)\n",
        "\n",
        "# Предсказания и оценка\n",
        "y_pred_svc_balanced = svc_model_balanced.predict(X_test)\n",
        "svc_accuracy_balanced = accuracy_score(y_test, y_pred_svc_balanced)\n",
        "\n",
        "# Вывод отчета\n",
        "print(\"\\nSVC (class_weight='balanced') точность:\", svc_accuracy_balanced)\n",
        "print(\"\\nSVC Classification Report:\\n\", classification_report(y_test, y_pred_svc_balanced))\n"
      ],
      "metadata": {
        "colab": {
          "base_uri": "https://localhost:8080/"
        },
        "id": "s-lGUZz0CP9A",
        "outputId": "c1e823e7-1381-4164-aa9f-b368b9167b29"
      },
      "execution_count": null,
      "outputs": [
        {
          "output_type": "stream",
          "name": "stdout",
          "text": [
            "\n",
            "SVC (class_weight='balanced') точность: 0.7926666666666666\n",
            "\n",
            "SVC Classification Report:\n",
            "               precision    recall  f1-score   support\n",
            "\n",
            "           0       0.79      1.00      0.88      1158\n",
            "           1       0.94      0.10      0.18       342\n",
            "\n",
            "    accuracy                           0.79      1500\n",
            "   macro avg       0.87      0.55      0.53      1500\n",
            "weighted avg       0.82      0.79      0.72      1500\n",
            "\n"
          ]
        }
      ]
    },
    {
      "cell_type": "code",
      "source": [
        "# Создание новых признаков\n",
        "fix_Xtrain['f1_f2_interaction'] = fix_Xtrain['f1'] * fix_Xtrain['f2'] # Интеракция\n",
        "fix_Xtrain['f3_log'] = np.log1p(fix_Xtrain['f3'])  # Логарифмирование\n",
        "fix_Xtrain['f4_squared'] = fix_Xtrain['f4'] ** 2  # Квадрат\n",
        "\n",
        "# Определение независимых и зависимых переменных\n",
        "X = fix_Xtrain.drop([\"target\"], axis=1) # Независимые переменные\n",
        "y = fix_Xtrain['target']  # Зависимая переменная\n",
        "\n",
        "# Разделение данных на обучающую и тестовую выборки\n",
        "X_train, X_test, y_train, y_test = train_test_split(X, y, test_size=0.2, random_state=42)\n",
        "\n",
        "# Выводим размеры\n",
        "print(\"Размер обучающего набора:\", X_train.shape)\n",
        "print(\"Размер тестового набора:\", X_test.shape)"
      ],
      "metadata": {
        "colab": {
          "base_uri": "https://localhost:8080/"
        },
        "id": "UGdNhKzDD5h2",
        "outputId": "b7cedddf-9504-46bf-89d2-85def4917611"
      },
      "execution_count": null,
      "outputs": [
        {
          "output_type": "stream",
          "name": "stdout",
          "text": [
            "Размер обучающего набора: (6000, 17)\n",
            "Размер тестового набора: (1500, 17)\n"
          ]
        }
      ]
    },
    {
      "cell_type": "code",
      "source": [
        "# Модель Logistic Regression с динамическими весами\n",
        "class_weights_log_3 = {0: 1, 1: (len(y) / (2 * y.value_counts()[1]))}\n",
        "logistic_model_3 = LogisticRegression(class_weight=class_weights_log_3, solver='liblinear', penalty='l1', C=0.1)\n",
        "\n",
        "# Обучение модели на обучающей выборке\n",
        "logistic_model_3.fit(X_train, y_train)\n",
        "\n",
        "# Обучение модели SVC с RBF ядром\n",
        "class_weights_svc_3 = {0: 1, 1: (len(y) / (2 * y.value_counts()[1]))}\n",
        "svc_model_3 = SVC(class_weight='balanced', kernel='poly', degree=4, coef0=2, gamma='scale', C=1.0)\n",
        "\n",
        "# Обучение модели на обучающей выборке\n",
        "svc_model_3.fit(X_train, y_train)\n",
        "\n",
        "# Применение модели на тестовых данных\n",
        "y_pred_logistic_manual_3 = logistic_model_3.predict(X_test)\n",
        "\n",
        "# Применение модели на тестовых данных\n",
        "y_pred_svc_manual_3 = svc_model_3.predict(X_test)\n",
        "\n",
        "# Оценка моделей\n",
        "logistic_accuracy_manual_3 = accuracy_score(y_test, y_pred_logistic_manual_3)\n",
        "svc_accuracy_manual_3 = accuracy_score(y_test, y_pred_svc_manual_3)\n",
        "\n",
        "print(\"Logistic Regression точность:\", logistic_accuracy_manual_3)\n",
        "print(\"SVC точность:\", svc_accuracy_manual_3)\n",
        "\n",
        "# Вывод отчетов о классификации\n",
        "print(\"\\nLogistic Regression:\\n\", classification_report(y_test, y_pred_logistic_manual_3))\n",
        "print(\"\\nSVC:\\n\", classification_report(y_test, y_pred_svc_manual_3))"
      ],
      "metadata": {
        "colab": {
          "base_uri": "https://localhost:8080/"
        },
        "id": "mVcq0gV2B9nB",
        "outputId": "d98f8002-28c0-47aa-adb5-74cf7a25fe71"
      },
      "execution_count": null,
      "outputs": [
        {
          "output_type": "stream",
          "name": "stdout",
          "text": [
            "Logistic Regression точность: 0.818\n",
            "SVC точность: 0.7166666666666667\n",
            "\n",
            "Logistic Regression:\n",
            "               precision    recall  f1-score   support\n",
            "\n",
            "           0       0.92      0.84      0.88      1158\n",
            "           1       0.58      0.75      0.65       342\n",
            "\n",
            "    accuracy                           0.82      1500\n",
            "   macro avg       0.75      0.80      0.77      1500\n",
            "weighted avg       0.84      0.82      0.83      1500\n",
            "\n",
            "\n",
            "SVC:\n",
            "               precision    recall  f1-score   support\n",
            "\n",
            "           0       0.84      0.78      0.81      1158\n",
            "           1       0.40      0.51      0.45       342\n",
            "\n",
            "    accuracy                           0.72      1500\n",
            "   macro avg       0.62      0.64      0.63      1500\n",
            "weighted avg       0.74      0.72      0.73      1500\n",
            "\n"
          ]
        }
      ]
    },
    {
      "cell_type": "markdown",
      "source": [
        "В третьем варианте удалось улучгить модель с Logistic Regression"
      ],
      "metadata": {
        "id": "8VEqVLFtEgf7"
      }
    },
    {
      "cell_type": "markdown",
      "metadata": {
        "id": "yfu3yy_7tWcy"
      },
      "source": [
        "### 5. Оцените на отложенной выборке качество наилучшей модели\n",
        "В пунктах 3 и 4 вы построили много разных моделей.\n",
        "\n",
        "Возьмите ту, которая дала наилучшее качество на тестовых данных (Test). Примените её на отложенной выборке (TestData) и выведите на экран значение метрики f1."
      ]
    },
    {
      "cell_type": "code",
      "execution_count": null,
      "metadata": {
        "id": "upHUOfrktWcy",
        "colab": {
          "base_uri": "https://localhost:8080/"
        },
        "outputId": "ad4522e9-91f3-44e2-e9a3-747681067059"
      },
      "outputs": [
        {
          "output_type": "stream",
          "name": "stdout",
          "text": [
            "Метрика f1 для Logistic Regression: 0.5188374596340151\n",
            "Метрика f1 для SVC: 0.4437450826121164\n"
          ]
        }
      ],
      "source": [
        "# Ваш код здесь\n",
        "# Создание новых признаков\n",
        "Xtest['f1_f2_interaction'] = Xtest['f1'] * Xtest['f2'] # Интеракция\n",
        "Xtest['f3_log'] = np.log1p(Xtest['f3'])  # Логарифмирование\n",
        "Xtest['f4_squared'] = Xtest['f4'] ** 2  # Квадрат\n",
        "\n",
        "X_test_data = Xtest.drop(columns=['target'])  # замените 'target' на имя целевой переменной\n",
        "y_test_data = Xtest['target']\n",
        "\n",
        "# Применение модели на отложенной выборке Logistic Regression\n",
        "\n",
        "# Обучение модели на обучающей выборке\n",
        "test_logistic_model_3 = logistic_model_3.predict(X_test_data)\n",
        "\n",
        "# Применение модели на отложенной выборке SVC\n",
        "test_svc_model_3 = svc_model_3.predict(X_test_data)\n",
        "\n",
        "# Вычисление метрики f1\n",
        "f1_log = f1_score(y_test_data, test_logistic_model_3)\n",
        "f1_svc = f1_score(y_test_data, test_svc_model_3)\n",
        "\n",
        "print(\"Метрика f1 для Logistic Regression:\", f1_log)\n",
        "print(\"Метрика f1 для SVC:\", f1_svc)"
      ]
    },
    {
      "cell_type": "markdown",
      "metadata": {
        "id": "YZT0rMuStWcz"
      },
      "source": [
        "### 6. Выполните хитрый трюк\n",
        "Часто смешивание различных моделей даёт улучшение итогового предсказания. Попробуйте смешать две лучшие модели по формуле:\n",
        "$$pred_{final} = \\alpha\\cdot pred_1 + (1-\\alpha)\\cdot pred_2$$.\n",
        "\n",
        "Значение $\\alpha$ подберите в цикле по Test-выборке. Оцените качество на отложенной выборке.\n",
        "\n",
        "Удалось ли добиться улучшения качества?"
      ]
    },
    {
      "cell_type": "code",
      "execution_count": null,
      "metadata": {
        "id": "3DdSsk6gtWc7",
        "colab": {
          "base_uri": "https://localhost:8080/"
        },
        "outputId": "68c8e141-40dc-4698-ad17-fe54fb4d0e13"
      },
      "outputs": [
        {
          "output_type": "stream",
          "name": "stdout",
          "text": [
            "Лучшее значение alpha: 0.6000000000000001\n",
            "Лучшее значение F1: 0.5188374596340151\n"
          ]
        }
      ],
      "source": [
        "# Ваш код здесь\n",
        "best_f1 = 0\n",
        "best_alpha = 0\n",
        "\n",
        "# Перебор значений alpha от 0 до 1 с шагом 0.1\n",
        "for alpha in np.arange(0, 1.1, 0.1):\n",
        "    # Вычисляем финальное предсказание\n",
        "    pred_final = alpha * test_logistic_model_3 + (1 - alpha) * test_svc_model_3\n",
        "\n",
        "    # Преобразуем предсказания в бинарные (0 или 1)\n",
        "    pred_final_binary = np.round(pred_final).astype(int)  # Преобразуем к 0 и 1\n",
        "\n",
        "    # Вычисляем метрику f1\n",
        "    f1 = f1_score(y_test_data, pred_final_binary)\n",
        "\n",
        "    # Сравниваем с лучшим значением\n",
        "    if f1 > best_f1:\n",
        "        best_f1 = f1\n",
        "        best_alpha = alpha\n",
        "\n",
        "# Выводим результаты\n",
        "print(\"Лучшее значение alpha:\", best_alpha)\n",
        "print(\"Лучшее значение F1:\", best_f1)"
      ]
    },
    {
      "cell_type": "markdown",
      "metadata": {
        "id": "9b9imFkLtWc8"
      },
      "source": [
        "### 7. Сделайте выводы\n",
        "\n",
        "Запишите в отдельной ячейке текстом выводы о проделанной работе. Для этого ответьте на вопросы:\n",
        "- Какие подходы вы использовали для улучшения работы baseline-моделей?\n",
        "- Какого максимального качества удалось добиться на Test-данных?\n",
        "- Какое при этом получилось качество на отложенной выборке?\n",
        "- Ваша модель переобучилась, недообучилась или обучилась как надо?"
      ]
    },
    {
      "cell_type": "code",
      "execution_count": null,
      "metadata": {
        "id": "wWgT4ulytWc-"
      },
      "outputs": [],
      "source": [
        "# Ваш текст здесь\n",
        "Для улучшения модели были исполльзованы методы: логистическая регрессия с balanced class weights, SVC для учета дисбаланса классов и Logistic Regression с динамическими весами.\n",
        "\n",
        "\n",
        "На трейтей самой удачной модели был решен вопрос с переобучением модели и она более не даёт идеальных метрик ввиде 1.0 или 0.98/0.96 не смотря неочень высокие показатели модель Logistic Regression обучилась хорошо исходя из метрик.\n",
        "Тоже касается модели SVC она тоже показывает приемлимые результаты, но ввижу того, что метрики всё-таки в некоторых моментах ниже 50% то можно сказать, что можель недообучилась и требуется более тщательная работа с данными не придусмотренная заданием.\n",
        "\n"
      ]
    },
    {
      "cell_type": "markdown",
      "metadata": {
        "id": "cnFjm55atWc-"
      },
      "source": [
        "Важный комментарий! В реальных задачах не следует ожидать, что машинным обучением всегда удастся решить задачу с хорошим качеством. Но использовать все имеющиеся у вас в арсенале методы для достижения наилучшего результата нужно."
      ]
    }
  ],
  "metadata": {
    "kernelspec": {
      "display_name": "Python 3",
      "language": "python",
      "name": "python3"
    },
    "language_info": {
      "codemirror_mode": {
        "name": "ipython",
        "version": 3
      },
      "file_extension": ".py",
      "mimetype": "text/x-python",
      "name": "python",
      "nbconvert_exporter": "python",
      "pygments_lexer": "ipython3",
      "version": "3.7.6"
    },
    "colab": {
      "provenance": []
    }
  },
  "nbformat": 4,
  "nbformat_minor": 0
}